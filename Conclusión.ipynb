{
 "cells": [
  {
   "cell_type": "markdown",
   "id": "104f1c8e",
   "metadata": {},
   "source": [
    "### CONCLUSIÓN Y OPINIÓN PERSONAL SOBRE PYTHON "
   ]
  },
  {
   "cell_type": "markdown",
   "id": "ad599589",
   "metadata": {},
   "source": [
    "En las lecturas pudimos encontrar que el lenguaje de programación de Python es uno de los más populares en la actualidad, pues con el paso del tiempo los desarrolladores han ido emigrando a este lenguaje sobre muchos que dominaban la programación antiguamente. \n",
    "Como pude leer, python es un mundo ya que tiene muchísimas bibliotecas que te ayudan en la programación y por lo tanto, hacen que esta sea más sencilla debido a que puedes utilizarlo en distintos escenarios como programación artificial, programación científica, análisis estadísitio y programación web. \n",
    "Además, este programa ha aumentado en popularidad debido a la facilidad con la que se puede codificar, en mi opinión esto es cierto ya que yo al no saber nada de este programa al inicio de mi carrera universitaria, me pareció demasiado sencillo aprender y entender cómo manejarlo en mi clase de algoritmos y programación. Tanto para principiantes como para programadores experimentados este es un punto a favor ya que es mucho más fácil y rápido crear un programa funcional.\n",
    "\n",
    "Asi mismo, creo que el hecho de contar con tanta información en internet, así como resolución de dudas le da un plus al programa que sigue creciendo con el paso del tiempo. Este lenguaje es el que está ganando terreno en las universidades y por lo tanto puede seguir creciendo constantemente y en algún momento destronar a los lenguajes que lideran la lista de empleamiento en programas. \n",
    "\n",
    "Finalmente puedo decir que me parece bastante impresionante que con tan solo un par de palabras puedes realizar un completo código entendible y por lo tanto más fácil de encontrar errores y solucionarlos en el momento, creo que la programación es uno de los aprendizajes más importantes para todos ya que, en la actualidad, la tecnología se ha vuelto parte de nuestra vida diaria así como nos  facilita la vida y Python es compatible con los principales sistemas y plataformas utilizados hoy en día. \n",
    "\n",
    "\n"
   ]
  },
  {
   "cell_type": "markdown",
   "id": "37b6486b",
   "metadata": {},
   "source": [
    "### FORMULA MATEMÁTICA EN MARKDOWN\n",
    "\n"
   ]
  },
  {
   "cell_type": "markdown",
   "id": "e06d16b6",
   "metadata": {},
   "source": [
    ">Ecuación de Manning:\n",
    "> $$V= \\frac{1}{n} + (\\frac{A}{P})^\\frac{2}{3} + S^\\frac{1}{2}$$"
   ]
  },
  {
   "cell_type": "markdown",
   "id": "8131c527",
   "metadata": {},
   "source": [
    ">Donde:\n",
    ">- V= velocidad, m/s.\n",
    ">- n=coeficiente de manning.\n",
    ">- A= Área, m.\n",
    ">- P= perímetro mojado, m.\n",
    ">- S= Pendiente."
   ]
  }
 ],
 "metadata": {
  "kernelspec": {
   "display_name": "Python 3",
   "language": "python",
   "name": "python3"
  },
  "language_info": {
   "codemirror_mode": {
    "name": "ipython",
    "version": 3
   },
   "file_extension": ".py",
   "mimetype": "text/x-python",
   "name": "python",
   "nbconvert_exporter": "python",
   "pygments_lexer": "ipython3",
   "version": "3.8.8"
  }
 },
 "nbformat": 4,
 "nbformat_minor": 5
}
